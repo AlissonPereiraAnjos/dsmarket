{
 "cells": [
  {
   "cell_type": "code",
   "execution_count": null,
   "metadata": {},
   "outputs": [],
   "source": [
    "import pandas as pd\n",
    "import numpy as np\n",
    "import seaborn as sns \n",
    "import matplotlib.pyplot as plt \n",
    "%matplotlib inline"
   ]
  },
  {
   "cell_type": "code",
   "execution_count": null,
   "metadata": {},
   "outputs": [],
   "source": [
    "full_data = pd.read_pickle('../data/processed/full_data.pkl')"
   ]
  },
  {
   "cell_type": "code",
   "execution_count": null,
   "metadata": {},
   "outputs": [],
   "source": [
    "full_data['total_sales'] = full_data['sales'] * full_data['sell_price']"
   ]
  },
  {
   "cell_type": "code",
   "execution_count": null,
   "metadata": {},
   "outputs": [],
   "source": [
    "data_2011 = full_data[full_data['year'] == 2011]\n",
    "data_2011.head(100)"
   ]
  },
  {
   "cell_type": "code",
   "execution_count": null,
   "metadata": {},
   "outputs": [],
   "source": [
    "newyork_2011 = data_2011[data_2011['region'] == 'New York']\n",
    "boston_2011 = data_2011[data_2011['region'] == 'Boston']\n",
    "philadelphia_2011 = data_2011[data_2011['region'] == 'Philadelphia']"
   ]
  },
  {
   "cell_type": "code",
   "execution_count": null,
   "metadata": {},
   "outputs": [],
   "source": [
    "newyork_2011 = newyork_2011.sort_values(['week'])\n",
    "total_sales_week_2011 = newyork_2011.groupby(['item'])['total_sales'].sum()\n",
    "total_sales_week_2011_array = np.array(total_sales_week_2011)\n",
    "mean = total_sales_week_2011_array.mean()"
   ]
  },
  {
   "cell_type": "code",
   "execution_count": null,
   "metadata": {},
   "outputs": [],
   "source": [
    "# media + 1.5*(3q-1q)\n",
    "describe = total_sales_week_2011.describe()\n",
    "q25 = describe['25%']\n",
    "q75 = describe['75%']\n",
    "\n",
    "#Most Sales (UL - Upper Limit)\n",
    "moderate_outlier_ul = mean + 1.5 * (q75 - q25)\n",
    "several_outlier_ul = mean + 3 * (q75 - q25)\n",
    "\n",
    "#Lower Sales (LL - Lower Limit)\n",
    "moderate_outlier_ll = mean - 1.5 * (q75 - q25)\n",
    "several_outlier_ll = mean - 3 * (q75 - q25)\n",
    "\n",
    "total_sales_week_2011.describe()"
   ]
  },
  {
   "cell_type": "code",
   "execution_count": null,
   "metadata": {},
   "outputs": [],
   "source": [
    "most_sales = total_sales_week_2011[total_sales_week_2011 >= several_outlier_ul]\n",
    "lower_sales =  total_sales_week_2011[total_sales_week_2011 <= moderate_outlier_ll]"
   ]
  },
  {
   "cell_type": "code",
   "execution_count": null,
   "metadata": {},
   "outputs": [],
   "source": [
    "plt.figure(figsize=(15,7))\n",
    "plt.xticks(rotation=0)\n",
    "plt.ticklabel_format(useOffset=False, style='plain', axis='y')\n",
    "plt.title('Total sales NY per week')\n",
    "plt.xlabel('item')\n",
    "plt.ylabel('total_sales')\n",
    "total_sales_week_2011.plot(kind='bar')"
   ]
  }
 ],
 "metadata": {
  "kernelspec": {
   "display_name": "Python 3.10.8 64-bit (microsoft store)",
   "language": "python",
   "name": "python3"
  },
  "language_info": {
   "name": "python",
   "version": "3.10.8"
  },
  "orig_nbformat": 4,
  "vscode": {
   "interpreter": {
    "hash": "42afd86e59d3be588b4383a75b7fe28b0a5b439bfb4aeba47b5903a287424618"
   }
  }
 },
 "nbformat": 4,
 "nbformat_minor": 2
}
